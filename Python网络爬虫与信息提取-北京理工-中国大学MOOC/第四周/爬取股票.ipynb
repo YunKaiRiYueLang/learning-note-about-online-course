{
 "cells": [
  {
   "cell_type": "code",
   "execution_count": 1,
   "metadata": {},
   "outputs": [],
   "source": [
    "# 程序结构设计\n",
    "#1. 从东方财富网获取股票列表\n",
    "#2. 根据股票列表逐个到百度股票获取个股信息\n",
    "#3. 将结果存储到文件"
   ]
  },
  {
   "cell_type": "code",
   "execution_count": 61,
   "metadata": {
    "scrolled": true
   },
   "outputs": [
    {
     "name": "stdout",
     "output_type": "stream",
     "text": [
      "当前进度：100.00%"
     ]
    }
   ],
   "source": [
    "import requests\n",
    "from bs4 import BeautifulSoup\n",
    "import re\n",
    "import traceback\n",
    "\n",
    "def getHTMLText(url, code='utf-8'):\n",
    "    try:\n",
    "        \n",
    "        r = requests.get(url)\n",
    "        r.raise_for_status()\n",
    "        r.encoding = code\n",
    "        return r.text\n",
    "    except:\n",
    "        print('爬取失败')\n",
    "\n",
    "def getStockList(lst, stockURL):\n",
    "    html = getHTMLText(stockURL, 'GB2312')\n",
    "    soup = BeautifulSoup(html, 'html.parser')\n",
    "    a = soup.find_all('a')\n",
    "    for i in a:\n",
    "        try:\n",
    "            href = i.attrs['href']\n",
    "            lst.append(re.findall(r\"[s][hz]\\d{6}\", href)[0]) ## 匹配 a 标签中 href 属性以 s 开头，中间是 h 或 z ，最后是6位数字\n",
    "        except:\n",
    "            continue\n",
    "\n",
    "def getStockInfo(lst, stockURL, fpath):\n",
    "    ## 去掉列表里的重复选项--将列表转换为集合再转换为列表\n",
    "    lst = list(set(lst))\n",
    "    count = 0\n",
    "    for stock in lst:\n",
    "        url = stockURL + stock[-6:]\n",
    "        html = getHTMLText(url)\n",
    "        try:\n",
    "            if html == '': ## 判断是否空页面\n",
    "                continue\n",
    "            infoDict = {} ## 定义一个字典，存储股票信息\n",
    "            soup = BeautifulSoup(html, 'html.parser')\n",
    "            stockInfo = soup.find('div', attrs={'class':'stock-info'})\n",
    "\n",
    "            name = stockInfo.find_all(attrs={'class':'name'})[0]\n",
    "            price = stockInfo.find_all(attrs={'class': 'latest'})[0]\n",
    "            infoDict.update({'股票名称':name.text.split()[0], '最新行情':price.text.split()[0]})\n",
    "\n",
    "\n",
    "            keyList = stockInfo.find_all('dt')\n",
    "            valueList = stockInfo.find_all('dd')\n",
    "\n",
    "            for i in range(len(keyList)):\n",
    "                key = keyList[i].text\n",
    "                val = valueList[i].text\n",
    "                infoDict[key] = val\n",
    "\n",
    "\n",
    "            ## 将字典写入文件中\n",
    "            with open(fpath, 'a', encoding='utf-8') as f:\n",
    "                f.write(str(infoDict) + '\\n')\n",
    "                count = count + 1\n",
    "                ## 增加动态进度显示\n",
    "                print('\\r当前进度：{:.2f}%'.format(count*100/len(lst)), end='')\n",
    "\n",
    "        except:\n",
    "            traceback.print_exc()  ## 获得发生异常的错误信息\n",
    "            continue\n",
    "\n",
    "def main():\n",
    "    stock_list_url = 'http://app.finance.ifeng.com/list/stock.php?t=ha'\n",
    "    stock_info_url = 'https://www.laohu8.com/stock/'\n",
    "    output_file = 'D:\\\\BaiduStockInfo.txt'\n",
    "    slist = []\n",
    "    getStockList(slist, stock_list_url)\n",
    "    getStockInfo(slist, stock_info_url, output_file)\n",
    "\n",
    "main()"
   ]
  },
  {
   "cell_type": "code",
   "execution_count": 28,
   "metadata": {},
   "outputs": [],
   "source": [
    "#以上课堂代码，由于网页变动，已经无法获取了   改成上面的"
   ]
  },
  {
   "cell_type": "code",
   "execution_count": 59,
   "metadata": {},
   "outputs": [
    {
     "name": "stdout",
     "output_type": "stream",
     "text": [
      "当前进度：100.00%"
     ]
    }
   ],
   "source": []
  },
  {
   "cell_type": "code",
   "execution_count": null,
   "metadata": {},
   "outputs": [],
   "source": []
  }
 ],
 "metadata": {
  "kernelspec": {
   "display_name": "Python 3",
   "language": "python",
   "name": "python3"
  },
  "language_info": {
   "codemirror_mode": {
    "name": "ipython",
    "version": 3
   },
   "file_extension": ".py",
   "mimetype": "text/x-python",
   "name": "python",
   "nbconvert_exporter": "python",
   "pygments_lexer": "ipython3",
   "version": "3.7.6"
  }
 },
 "nbformat": 4,
 "nbformat_minor": 4
}
